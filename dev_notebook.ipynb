{
 "cells": [
  {
   "cell_type": "markdown",
   "id": "6c39f86e",
   "metadata": {},
   "source": [
    "# Open Space Organizer\n",
    "\n",
    "Let' create a program that assigns 24 people to 6 tables in an openspace. What do we need?\n",
    "\n",
    "- People -> List of Names (later we can figure out how to use a file)\n",
    "- Seats & Tables -> Class\n",
    "- An OpenSpace -> Class\n",
    "\n",
    "Below I've created a list of my new colleagues for reference!"
   ]
  },
  {
   "cell_type": "code",
   "execution_count": 2,
   "id": "f42c2860",
   "metadata": {},
   "outputs": [],
   "source": [
    "new_collegues = [\"Aleksei\",\"Amine\",\"Anna\",\"Astha\",\"Brigitta\",\n",
    "                 \"Bryan\",\"Ena\",\"Esra\",\"Faranges\",\"Frédéric\",\n",
    "                 \"Hamideh\",\"Héloïse\",\"Imran\",\"Intan K.\",\n",
    "                 \"Jens\",\"Kristin\",\"Michiel\",\"Nancy\",\"Pierrick\",\n",
    "                 \"Sandrine\",\"Tim\",\"Viktor\",\"Welederufeal\",\"Živile\"]"
   ]
  },
  {
   "cell_type": "markdown",
   "id": "7143b84b",
   "metadata": {},
   "source": [
    "## Step 1: How to build a Seat class\n",
    "\n",
    "I have created a class called `Seat` with two attributes:\n",
    "\n",
    "- `free` which is a boolean.\n",
    "- `occupant` which is a string.\n",
    "\n",
    "and 2 functions : \n",
    "\n",
    "- `set_occupant(name)` which allows the program to assign someone a seat if it's free\n",
    "- `remove_occupant()` which  remove someone from a seat and return the name of the person occupying the seat before"
   ]
  },
  {
   "cell_type": "code",
   "execution_count": null,
   "id": "cd710ff6",
   "metadata": {},
   "outputs": [],
   "source": [
    "class Seat:\n",
    "    \"\"\"Cretaing two attributes, where free is a boolean value and occupant is a string.\"\"\"\n",
    "    def __init__(self) -> None:\n",
    "        self.free = True\n",
    "        self.occupant = \"\"\n",
    "\n",
    "    def set_occupant(self, name):\n",
    "        \"\"\"Assigns an occupant to the seat if it's free, otherwise indicates it's taken.\"\"\"\n",
    "        if self.free:\n",
    "            self.occupant = name\n",
    "            self.free = False\n",
    "            return f\"{self.occupant} is sitting here.\"\n",
    "        else:\n",
    "            return \"This seat is taken.\"\n",
    "\n",
    "    def remove_occupant(self):\n",
    "        \"\"\"Frees the seat and returns the name of the previous occupant if occupied.\"\"\"\n",
    "        if not self.free:\n",
    "            name = self.occupant\n",
    "            self.free = True\n",
    "            self.occupant = \"\"\n",
    "            return f\"Previously {name} was sitting here.\"\n",
    "        else:\n",
    "            return None"
   ]
  },
  {
   "cell_type": "code",
   "execution_count": 5,
   "id": "1edecd88",
   "metadata": {},
   "outputs": [
    {
     "name": "stdout",
     "output_type": "stream",
     "text": [
      "Brigi is sitting here.\n",
      "This seat is taken.\n",
      "Previously Brigi was sitting here.\n"
     ]
    }
   ],
   "source": [
    "#Let's test our code here! (try to assign yourself you a Seat)\n",
    "seat = Seat()\n",
    "print(seat.set_occupant(\"Brigi\"))\n",
    "print(seat.set_occupant(\"Brigi\"))\n",
    "print(seat.remove_occupant())"
   ]
  },
  {
   "cell_type": "markdown",
   "id": "866e0624",
   "metadata": {},
   "source": [
    "## Step 2: How to build a Table class\n",
    "\n",
    "Let's create a class `Table` with 2 attributes:\n",
    "\n",
    "- `capacity` which is an integer\n",
    "- `seats` which is a list of `Seat` objects (size = `capacity`)\n",
    "\n",
    "and 3 functions : \n",
    "- `has_free_spot()` that returns a boolean (True if a spot is available)\n",
    "- `assign_seat(name)` that places someone at the table\n",
    "- `left_capacity()` that returns an integer"
   ]
  },
  {
   "cell_type": "code",
   "execution_count": 6,
   "id": "fecb501e",
   "metadata": {},
   "outputs": [],
   "source": [
    "class Table:\n",
    "    def __init__(self,capacity):\n",
    "        \"\"\"Creating two attributes, where capacity is an integer and seats is a list of Seat objects representing the seats.\"\"\"\n",
    "        self.capacity = capacity\n",
    "        self.seats = [Seat() for _ in range(capacity)]\n",
    "\n",
    "    def has_free_spot(self):\n",
    "        \"\"\"Checking if there are any seats free, returning a boolean value.\"\"\"\n",
    "        for seat in self.seats:\n",
    "            if seat.free:\n",
    "                return True\n",
    "        return False\n",
    "\n",
    "    def assign_seat(self,name):\n",
    "        \"\"\"Assigning a person to a seat if it is free.\"\"\"\n",
    "        for seat in self.seats:\n",
    "            if seat.free:\n",
    "                seat.set_occupant(name)\n",
    "                return (f\"{name} was assigned a table\", True)\n",
    "        return (\"No seats left\", False)\n",
    "\n",
    "    def left_capacity(self):\n",
    "        \"\"\"Showing how much free seats we have left.\"\"\"\n",
    "        capacity = 0\n",
    "        for seat in self.seats:\n",
    "            if seat.free:\n",
    "                capacity += 1\n",
    "        return capacity"
   ]
  },
  {
   "cell_type": "code",
   "execution_count": 7,
   "id": "de0bd7fd",
   "metadata": {},
   "outputs": [
    {
     "name": "stdout",
     "output_type": "stream",
     "text": [
      "True\n",
      "('Brigi was assigned a table', True)\n",
      "('Tim was assigned a table', True)\n",
      "('Esra was assigned a table', True)\n",
      "1\n"
     ]
    }
   ],
   "source": [
    "#Let's test our code here! (assign our colleagues at your table to a Table)\n",
    "table = Table(4)\n",
    "print(table.has_free_spot())\n",
    "print(table.assign_seat(\"Brigi\"))\n",
    "print(table.assign_seat(\"Tim\"))\n",
    "print(table.assign_seat(\"Esra\"))\n",
    "print(table.left_capacity())"
   ]
  },
  {
   "cell_type": "markdown",
   "id": "e129d18f",
   "metadata": {},
   "source": [
    "## Step 3: How to build an OpenSpace class\n",
    "\n",
    "Let's create a class `Openspace` that contains the following attributes:\n",
    "\n",
    "- `tables` which is a list of `Table`. _(you will need to import `Table` from `table.py`)_. \n",
    "- `number_of_tables` which is an integer.\n",
    "\n",
    "And the methods:\n",
    "\n",
    "- `organize(names)` that will:\n",
    "  - **randomly** assign people to `Seat` objects in the different `Table` objects.\n",
    "- `display()` display the different tables and there occupants in a nice and readable way\n",
    "- `store(filename)` store the repartition in an file"
   ]
  },
  {
   "cell_type": "code",
   "execution_count": null,
   "id": "e2731910",
   "metadata": {},
   "outputs": [],
   "source": [
    "import random\n",
    "from utils.table import Table\n",
    "\n",
    "class OpenSpace:\n",
    "    def __init__(self, number_of_tables, capacity_of_tables):\n",
    "        \"\"\"Creating two attributes, where one is an integer and the other one is a list\"\"\"\n",
    "        self.number_of_tables = number_of_tables\n",
    "        self.tables = [Table(capacity_of_tables) for _ in range(number_of_tables)]\n",
    "\n",
    "    def organize(self, names):\n",
    "        \"\"\"Randomly assigning people from the names list to available seats from all the tables.\"\"\"\n",
    "        random.shuffle(names)\n",
    "        \n",
    "        for name in names:\n",
    "            is_assigned = False\n",
    "            for table in self.tables:\n",
    "                if table.has_free_spot():\n",
    "                    table.assign_seat(name)\n",
    "                    is_assigned = True\n",
    "                    break\n",
    "            if not is_assigned:\n",
    "                print(f\"No more seats left for {name}\")\n",
    "\n",
    "    def display(self):\n",
    "        \"\"\"Displaying the tables with the name of the people who are sitting there.\"\"\"\n",
    "        for i, table in enumerate(self.tables, start = 1):\n",
    "            print(f\" Table {i}: \")\n",
    "            for x, seat in enumerate(table.seats, start = 1):\n",
    "                if seat.free:\n",
    "                    print(f\"Seat {x}: empty\")\n",
    "                else:\n",
    "                    print(f\"Seat {x}: {seat.occupant}\")\n",
    "            print()\n",
    "             \n",
    "    def store(self, filename):\n",
    "        \"\"\"Storing the repartition of tables and the name of people in an file \"\"\"\n",
    "        with open(filename, 'w') as f:\n",
    "            for i, table in enumerate(self.tables, start = 1):\n",
    "                f.write(f\"Table {i}:\\n\")\n",
    "                for x, seat in enumerate(table.seats, start = 1):\n",
    "                    if seat.free:\n",
    "                        f.write(f\"Seat {x}: empty\\n\")\n",
    "                    else:\n",
    "                        f.write(f\"Seat {x}: {seat.occupant}\\n\")\n",
    "                f.write(\"\\n\")"
   ]
  },
  {
   "cell_type": "code",
   "execution_count": 14,
   "id": "98326d29",
   "metadata": {},
   "outputs": [
    {
     "name": "stdout",
     "output_type": "stream",
     "text": [
      " Table 1: \n",
      "Seat 1: Astha\n",
      "Seat 2: Esra\n",
      "Seat 3: Viktor\n",
      "Seat 4: Kristin\n",
      "\n",
      " Table 2: \n",
      "Seat 1: Brigitta\n",
      "Seat 2: Imran\n",
      "Seat 3: Tim\n",
      "Seat 4: Živile\n",
      "\n",
      " Table 3: \n",
      "Seat 1: Hamideh\n",
      "Seat 2: Bryan\n",
      "Seat 3: Michiel\n",
      "Seat 4: Welderferal\n",
      "\n",
      " Table 4: \n",
      "Seat 1: Faranges\n",
      "Seat 2: Aleksei\n",
      "Seat 3: Amine\n",
      "Seat 4: Jens\n",
      "\n",
      " Table 5: \n",
      "Seat 1: Derrick\n",
      "Seat 2: Intan K.\n",
      "Seat 3: Nancy\n",
      "Seat 4: Ena\n",
      "\n",
      " Table 6: \n",
      "Seat 1: Héloïse\n",
      "Seat 2: Sandrine\n",
      "Seat 3: Frédéric\n",
      "Seat 4: Anna\n",
      "\n"
     ]
    }
   ],
   "source": [
    "#Let's test our code! (assign everyone in the class to a table)\n",
    "new_colleagues = [\n",
    "    \"Aleksei\",\"Amine\",\"Anna\",\"Astha\",\"Brigitta\",\n",
    "    \"Bryan\",\"Ena\",\"Esra\",\"Faranges\",\"Frédéric\",\n",
    "    \"Hamideh\",\"Héloïse\",\"Imran\",\"Intan K.\",\"Jens\",\n",
    "    \"Kristin\",\"Michiel\",\"Nancy\",\"Derrick\",\n",
    "    \"Sandrine\",\"Tim\",\"Viktor\",\"Welderferal\",\"Živile\"\n",
    "]\n",
    "\n",
    "working_space = OpenSpace(number_of_tables=6, capacity_of_tables=4)\n",
    "working_space.organize(new_colleagues)\n",
    "working_space.display()\n",
    "working_space.store(\"open_space_plan.txt\")"
   ]
  }
 ],
 "metadata": {
  "kernelspec": {
   "display_name": "Python 3",
   "language": "python",
   "name": "python3"
  },
  "language_info": {
   "codemirror_mode": {
    "name": "ipython",
    "version": 3
   },
   "file_extension": ".py",
   "mimetype": "text/x-python",
   "name": "python",
   "nbconvert_exporter": "python",
   "pygments_lexer": "ipython3",
   "version": "3.14.0"
  }
 },
 "nbformat": 4,
 "nbformat_minor": 5
}
