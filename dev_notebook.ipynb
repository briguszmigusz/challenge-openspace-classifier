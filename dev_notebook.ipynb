{
 "cells": [
  {
   "cell_type": "markdown",
   "id": "7143b84b",
   "metadata": {},
   "source": [
    "1. Create a first version of the project in a your development notebook\n",
    "Here is a guide! Add it to your repo and follow the steps. You will create three objects a seat, a table (made of seats), and an open space (made of tables)."
   ]
  },
  {
   "cell_type": "code",
   "execution_count": null,
   "id": "cd710ff6",
   "metadata": {},
   "outputs": [
    {
     "name": "stdout",
     "output_type": "stream",
     "text": [
      "Brigi is sitting here.\n",
      "This seat is taken.\n",
      "Previously Brigi was sitting here.\n"
     ]
    }
   ],
   "source": [
    "class Seat:\n",
    "    def __init__(self) -> None:\n",
    "        self.free = True\n",
    "        self.occupant = \"\"\n",
    "\n",
    "    def set_occupant(self, name: str) -> None:\n",
    "        if self.free is True:\n",
    "            self.occupant = name\n",
    "            self.free = False\n",
    "            return f\"{self.occupant} is sitting here.\"\n",
    "        else:\n",
    "            return \"This seat is taken.\"\n",
    "\n",
    "    def remove_occupant(self) -> str:\n",
    "        if self.free is False:\n",
    "            name = self.occupant\n",
    "            self.free = True\n",
    "            return f\"Previously {name} was sitting here.\"\n",
    "        \n",
    "\n",
    "seat = Seat()\n",
    "print(seat.set_occupant(\"Brigi\"))\n",
    "print(seat.set_occupant(\"Brigi\"))\n",
    "print(seat.remove_occupant())\n"
   ]
  },
  {
   "cell_type": "markdown",
   "id": "a908b3e4",
   "metadata": {},
   "source": [
    "Step 2: Build a Table\n",
    "Create a class Table with ? attributes:\n",
    "\n",
    "capacity which is an integer\n",
    "seats which is a list of Seat objects (size = capacity)\n",
    "and 3 functions :\n",
    "\n",
    "has_free_spot() that returns a boolean (True if a spot is available)\n",
    "assign_seat(name) that places someone at the table\n",
    "left_capacity() that returns an integer\n",
    "Question: Which attributes make sense to give? For now let's say we want to build 6 tables with 4 seats."
   ]
  },
  {
   "cell_type": "code",
   "execution_count": 8,
   "id": "fecb501e",
   "metadata": {},
   "outputs": [
    {
     "name": "stdout",
     "output_type": "stream",
     "text": [
      "True\n",
      "Brigi was assigned a table\n",
      "Tim was assigned a table\n",
      "Esra was assigned a table\n",
      "1\n"
     ]
    }
   ],
   "source": [
    "class Table:\n",
    "    def __init__(self,capacity):\n",
    "        self.capacity = capacity\n",
    "        self.seats = [Seat() for _ in range(capacity)] #<-comprehension [Seat(), Seat(), Seat(), Seat()]\n",
    "\n",
    "    def has_free_spot(self):\n",
    "        for seat in self.seats:\n",
    "            if seat.free:\n",
    "                return True\n",
    "            else:\n",
    "                return False\n",
    "\n",
    "    def assign_seat(self,name) -> str:\n",
    "        for seat in self.seats:\n",
    "            if seat.free:\n",
    "                seat.set_occupant(name)\n",
    "                return f\"{name} was assigned a table\"\n",
    "        return \"No seats left\"\n",
    "\n",
    "    def left_capacity(self):\n",
    "        capacity = 0\n",
    "        for seat in self.seats:\n",
    "            if seat.free:\n",
    "                capacity += 1\n",
    "        return capacity\n",
    "        \n",
    "table = Table(4)\n",
    "print(table.has_free_spot())\n",
    "print(table.assign_seat(\"Brigi\"))\n",
    "print(table.assign_seat(\"Tim\"))\n",
    "print(table.assign_seat(\"Esra\"))\n",
    "print(table.left_capacity())"
   ]
  },
  {
   "cell_type": "markdown",
   "id": "e129d18f",
   "metadata": {},
   "source": [
    "Step 3: Build an OpenSpace\n",
    "Create a class Openspace that contains these attributes:\n",
    "\n",
    "tables which is a list of Table. (you will need to import Table from table.py).\n",
    "number_of_tables which is an integer.\n",
    "And some methods:\n",
    "\n",
    "organize(names) that will:\n",
    "randomly assign people to Seat objects in the different Table objects.\n",
    "display() display the different tables and there occupants in a nice and readable way\n",
    "store(filename) store the repartition in an file"
   ]
  },
  {
   "cell_type": "code",
   "execution_count": null,
   "id": "f0531868",
   "metadata": {},
   "outputs": [],
   "source": [
    "#from table import Table\n",
    "import random\n",
    "\n",
    "class Openspace:\n",
    "    def __init__(self, number_of_tables):\n",
    "        self.tables = [Table()]\n",
    "        self.number_of_tables = number_of_tables\n",
    "\n",
    "    def organize(names):\n",
    "        random.shuffle(names)\n",
    "        for name in names:\n",
    "            if table.has_free_spot():\n",
    "                table.assign_seat(name)\n",
    "        else:\n",
    "                print(\"There are no free spots available\")\n",
    "\n",
    "    def display():\n",
    "\n",
    "    def store(filename):"
   ]
  }
 ],
 "metadata": {
  "kernelspec": {
   "display_name": "Python 3",
   "language": "python",
   "name": "python3"
  },
  "language_info": {
   "codemirror_mode": {
    "name": "ipython",
    "version": 3
   },
   "file_extension": ".py",
   "mimetype": "text/x-python",
   "name": "python",
   "nbconvert_exporter": "python",
   "pygments_lexer": "ipython3",
   "version": "3.14.0"
  }
 },
 "nbformat": 4,
 "nbformat_minor": 5
}
